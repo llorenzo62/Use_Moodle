{
  "nbformat": 4,
  "nbformat_minor": 0,
  "metadata": {
    "kernelspec": {
      "display_name": "Python 3",
      "language": "python",
      "name": "python3"
    },
    "language_info": {
      "codemirror_mode": {
        "name": "ipython",
        "version": 3
      },
      "file_extension": ".py",
      "mimetype": "text/x-python",
      "name": "python",
      "nbconvert_exporter": "python",
      "pygments_lexer": "ipython3",
      "version": "3.8.5"
    },
    "colab": {
      "name": "Listados_garda.ipynb",
      "provenance": [],
      "include_colab_link": true
    }
  },
  "cells": [
    {
      "cell_type": "markdown",
      "metadata": {
        "id": "view-in-github",
        "colab_type": "text"
      },
      "source": [
        "<a href=\"https://colab.research.google.com/github/llorenzo62/Use_Moodle/blob/master/Listados_garda.ipynb\" target=\"_parent\"><img src=\"https://colab.research.google.com/assets/colab-badge.svg\" alt=\"Open In Colab\"/></a>"
      ]
    },
    {
      "cell_type": "code",
      "metadata": {
        "id": "w4tqxvFytGrB"
      },
      "source": [
        "import re,zipfile,glob\n",
        "\n",
        "def unzipODF(pathtofile):\n",
        "    fzip=zipfile.ZipFile(pathtofile)\n",
        "    return repr(fzip.read('content.xml').decode())\n",
        "\n"
      ],
      "execution_count": null,
      "outputs": []
    },
    {
      "cell_type": "code",
      "metadata": {
        "id": "UtqalMh_tGrK"
      },
      "source": [
        "def extrae_tablas(direcc):\n",
        "    hc=unzipODF(direcc)\n",
        "    tablas=re.findall('<table:table (table:name.*?)</table:table>',hc)\n",
        "    dtabla={}\n",
        "    for tabla in tablas:\n",
        "        nome=re.findall('table:name=\"(.*?)\"',tabla)[0]\n",
        "        if nome in ['NVScriptsProperties','DO NOT DELETE - AutoCrat Job Se']:\n",
        "            continue\n",
        "        #print(nome)\n",
        "        rows=re.findall('<table:table-row (.*?)</table:table-row>',tabla)\n",
        "        if rows:\n",
        "            dtabla[nome]=[re.findall(r'<text:p>(.*?)</text:p>',item)[:4] for item in rows[2:] if item]\n",
        "            dtabla[nome]=[item for item in dtabla[nome] if item]\n",
        "    return dtabla"
      ],
      "execution_count": null,
      "outputs": []
    },
    {
      "cell_type": "code",
      "metadata": {
        "id": "fJyLNcHIXNNE"
      },
      "source": [
        "def decorationList(lista):\n",
        "  return '%s.- %s (%s)' % tuple(lista)#'  '.join(lista)"
      ],
      "execution_count": null,
      "outputs": []
    },
    {
      "cell_type": "code",
      "metadata": {
        "id": "AiI8TNUltGrK"
      },
      "source": [
        "\n",
        "def options(num,options):\n",
        "    return '''\n",
        "    <ITEM TYPE=\"multichoice\" REQUIRED=\"1\">\n",
        "       <ITEMID>\n",
        "            <![CDATA[{}]]>\n",
        "       </ITEMID>\n",
        "       <ITEMTEXT>\n",
        "            <![CDATA[selecciona un opcion]]>\n",
        "       </ITEMTEXT>\n",
        "       <ITEMLABEL>\n",
        "            <![CDATA[opciones]]>\n",
        "       </ITEMLABEL>\n",
        "       <PRESENTATION>\n",
        "            <![CDATA[d>>>>>{}]]>\n",
        "       </PRESENTATION>\n",
        "       <OPTIONS>\n",
        "            <![CDATA[h]]>\n",
        "       </OPTIONS>\n",
        "       <DEPENDITEM>\n",
        "            <![CDATA[0]]>\n",
        "       </DEPENDITEM>\n",
        "       <DEPENDVALUE>\n",
        "            <![CDATA[]]>\n",
        "       </DEPENDVALUE>\n",
        "    </ITEM>\n",
        "    '''.format(num,options)[1:]\n",
        "\n",
        "def listado(num,label,listado,Idop,opcion):\n",
        "    return '''\n",
        "    <ITEM TYPE=\"multichoice\" REQUIRED=\"0\">\n",
        "           <ITEMID>\n",
        "                <![CDATA[{}]]>\n",
        "           </ITEMID>\n",
        "           <ITEMTEXT>\n",
        "                <![CDATA[{}]]>\n",
        "           </ITEMTEXT>\n",
        "           <ITEMLABEL>\n",
        "                <![CDATA[l1]]>\n",
        "           </ITEMLABEL>\n",
        "           <PRESENTATION>\n",
        "                <![CDATA[c>>>>>{}]]>\n",
        "           </PRESENTATION>\n",
        "           <OPTIONS>\n",
        "                <![CDATA[h]]>\n",
        "           </OPTIONS>\n",
        "           <DEPENDITEM>\n",
        "                <![CDATA[{}]]>\n",
        "           </DEPENDITEM>\n",
        "           <DEPENDVALUE>\n",
        "                <![CDATA[{}]]>\n",
        "           </DEPENDVALUE>\n",
        "    </ITEM>\n",
        "    '''.format(num,label,listado,Idop,opcion)[1:]\n",
        "\n",
        "def head():\n",
        "    return '''<?xml version=\"1.0\" encoding=\"UTF-8\" ?>\n",
        "<FEEDBACK VERSION=\"200701\" COMMENT=\"XML-Importfile for mod/feedback\">\n",
        "     <ITEMS>'''\n",
        "\n",
        "def tail():\n",
        "    return '''\n",
        "    </ITEMS>\n",
        "</FEEDBACK>'''\n",
        "\n",
        "def pagebreak(num):\n",
        "    return '''\n",
        "      <ITEM TYPE=\"pagebreak\" REQUIRED=\"0\">\n",
        "           <ITEMID>\n",
        "                <![CDATA[{}]]>\n",
        "           </ITEMID>\n",
        "           <ITEMTEXT>\n",
        "                <![CDATA[]]>\n",
        "           </ITEMTEXT>\n",
        "           <ITEMLABEL>\n",
        "                <![CDATA[]]>\n",
        "           </ITEMLABEL>\n",
        "           <PRESENTATION>\n",
        "                <![CDATA[]]>\n",
        "           </PRESENTATION>\n",
        "           <OPTIONS>\n",
        "                <![CDATA[]]>\n",
        "           </OPTIONS>\n",
        "           <DEPENDITEM>\n",
        "                <![CDATA[0]]>\n",
        "           </DEPENDITEM>\n",
        "           <DEPENDVALUE>\n",
        "                <![CDATA[]]>\n",
        "           </DEPENDVALUE>\n",
        "      </ITEM>'''.format(num)[1:]"
      ],
      "execution_count": null,
      "outputs": []
    },
    {
      "cell_type": "code",
      "metadata": {
        "id": "UrfwbRm1tGrM"
      },
      "source": [
        "nivel='2º ESO'"
      ],
      "execution_count": null,
      "outputs": []
    },
    {
      "cell_type": "code",
      "metadata": {
        "id": "WFSUSfj4tGrP",
        "colab": {
          "base_uri": "https://localhost:8080/"
        },
        "outputId": "ac53d3e9-6a65-4e27-e070-027d12b3e3cc"
      },
      "source": [
        "\n",
        "dictinfo={}\n",
        "f=glob.glob('*.ods')\n",
        "ops=[]\n",
        "for item in f:\n",
        "    ops.append(item.split('/')[-1].split('.')[0])\n",
        "dictinfo[nivel]=[f,ops]\n",
        "dictinfo"
      ],
      "execution_count": null,
      "outputs": [
        {
          "output_type": "execute_result",
          "data": {
            "text/plain": [
              "{'2º ESO': [['2ºESO A.ods',\n",
              "   '2ºESO E.ods',\n",
              "   '2ºESO C.ods',\n",
              "   '2ºESO D.ods',\n",
              "   '2ºESO B.ods'],\n",
              "  ['2ºESO A', '2ºESO E', '2ºESO C', '2ºESO D', '2ºESO B']]}"
            ]
          },
          "metadata": {
            "tags": []
          },
          "execution_count": 26
        }
      ]
    },
    {
      "cell_type": "code",
      "metadata": {
        "id": "6Dcx4fx9tGrR"
      },
      "source": [
        "datos={}\n",
        "for key,val in dictinfo.items():\n",
        "    direcc,descrip=val\n",
        "    datos[key]={}\n",
        "    for d,s in zip(direcc,descrip):\n",
        "        datos[key][s]=extrae_tablas(d)\n",
        "#datos"
      ],
      "execution_count": null,
      "outputs": []
    },
    {
      "cell_type": "code",
      "metadata": {
        "id": "UqDIeObOtGrS"
      },
      "source": [
        "\n",
        "keys=sorted(datos[nivel].keys())"
      ],
      "execution_count": null,
      "outputs": []
    },
    {
      "cell_type": "code",
      "metadata": {
        "id": "_Duro56ptGrU"
      },
      "source": [
        "with open('listados_'+nivel+'.xml','w') as fich:\n",
        "    fich.write(head()+'\\n')\n",
        "    num=1\n",
        "    Idop=num\n",
        "    fich.write(options(Idop,'|'.join(keys))+'\\n')\n",
        "    num+=1\n",
        "    fich.write(pagebreak(num))\n",
        "    for key in keys:\n",
        "        lista=''\n",
        "        key2=list(datos[nivel][key].keys())[0]\n",
        "        for item in datos[nivel][key][key2]:\n",
        "            lista+='|'+decorationList(item[:3])\n",
        "        lista=lista[1:]\n",
        "        num+=1\n",
        "        fich.write(pagebreak(num)+'\\n')\n",
        "        num+=1\n",
        "        fich.write(listado(num,key2,lista,Idop,key)+'\\n')\n",
        "    fich.write(tail())\n",
        "    \n",
        "    "
      ],
      "execution_count": null,
      "outputs": []
    },
    {
      "cell_type": "code",
      "metadata": {
        "id": "Qhlrf8YhtGrV"
      },
      "source": [
        "#Limpieza\n",
        "!rm *.ods\n",
        "!rm *.xml"
      ],
      "execution_count": null,
      "outputs": []
    },
    {
      "cell_type": "code",
      "metadata": {
        "id": "z8pu2MVOMDty"
      },
      "source": [
        ""
      ],
      "execution_count": null,
      "outputs": []
    },
    {
      "cell_type": "code",
      "metadata": {
        "id": "vjgMMsz_MIJu"
      },
      "source": [
        ""
      ],
      "execution_count": null,
      "outputs": []
    }
  ]
}