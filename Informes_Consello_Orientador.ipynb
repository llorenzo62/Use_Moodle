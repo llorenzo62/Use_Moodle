{
 "cells": [
  {
   "cell_type": "code",
   "execution_count": 25,
   "metadata": {
    "collapsed": true
   },
   "outputs": [],
   "source": [
    "PATH='/home/luis/sustituciones/centros/actual/Moodle/rubricas'\n",
    "comps=['obs',\n",
    "       'ccl',\n",
    "       'cmcct',\n",
    "       'cd',\n",
    "       'caa',\n",
    "       'csc',\n",
    "       'csiee',\n",
    "       'ccec'\n",
    "    ]\n",
    "cursos=[\n",
    "    '1a',\n",
    "    '1b',\n",
    "    '1c',\n",
    "    '3a',\n",
    "    '3b',\n",
    "    '3c',\n",
    "    '3d'\n",
    "]\n",
    "\n",
    "info={'1a':[22,'Xuño','Titora','MªLourdes Manteiga Gorgal'],'1b':[22,'Xuño','Titora','MªCarmen Pereiro Vizcaino'],'1c':[22,'Xuño','Titor','Ramón Iglesias Veiga'],'3a':[23,'Xuño','Titor','Francisco Domínguez Gonzalez'],'3b':[23,'Xuño','Titor','J. Ramón Rey Rodríguez'],'3c':[23,'Xuño','Titora','Moniqe Otero López'],'3d':[23,'Xuño','Titora','Araceli Andrade Fernández']}\n",
    "\n"
   ]
  },
  {
   "cell_type": "code",
   "execution_count": 26,
   "metadata": {
    "collapsed": false
   },
   "outputs": [],
   "source": [
    "def resuelve(vals):\n",
    "    pos=range(len(vals))\n",
    "    return round(1.0*sum([u*v for u,v in zip(vals,pos)])/sum(vals))"
   ]
  },
  {
   "cell_type": "code",
   "execution_count": 27,
   "metadata": {
    "collapsed": true
   },
   "outputs": [],
   "source": [
    "def nomtohtml(n):\n",
    "    '''\n",
    "    converts utf names to html names\n",
    "    '''\n",
    "    from re import sub\n",
    "    \n",
    "    acute=[\n",
    "        ['á','a'],['Á','A'],['é','e'],['É','E'],['í','i'],['Í','I'],['ó','o'],['Ó','O'],['ú','u'],['Ú','U']\n",
    "    ]\n",
    "    tilde=[\n",
    "        ['ñ','n'],['Ñ','N']\n",
    "    ]\n",
    "    #print n\n",
    "    for item in acute:\n",
    "        n=sub(item[0],'&'+item[1]+'acute;',n)\n",
    "    #print n\n",
    "    for item in tilde:\n",
    "        n=sub(item[0],'&'+item[1]+'tilde;',n)\n",
    "    #print n\n",
    "    return n"
   ]
  },
  {
   "cell_type": "code",
   "execution_count": 28,
   "metadata": {
    "collapsed": false
   },
   "outputs": [],
   "source": [
    "def import_comp(nomfich):\n",
    "    '''\n",
    "    importa los resultados de la encuesta de competencias\n",
    "    devuelve un diccionario donde:\n",
    "        key-> nombre alumno\n",
    "        value-> lista con nº votos por nivel\n",
    "    '''\n",
    "    import re\n",
    "    \n",
    "    try:\n",
    "        fich=open(nomfich+'.csv.0','r')\n",
    "        cont=fich.readlines()\n",
    "        fich.close()\n",
    "    except:\n",
    "        print 'No se encuentra el fichero %s' % nomfich+'.csv.0'\n",
    "        return {}\n",
    "\n",
    "    data=[]\n",
    "    quest=[]\n",
    "    nump=0\n",
    "    ok=False\n",
    "    count=0\n",
    "\n",
    "    #Load data\n",
    "    for aux in cont:\n",
    "        item= aux.strip().split(',')\n",
    "        if 'Encuestas:' in item[0]:\n",
    "            nump=item[0].split(':')[1]\n",
    "            nump=int(nump.strip('\"'))\n",
    "        elif 'Pregunta' in item[0] and 'Respuesta' in item[1]:\n",
    "            ok=True\n",
    "        elif ok:\n",
    "            if not count % 3:\n",
    "                cad=item[0].strip('\"')+','+item[1].strip('\"')\n",
    "                temp=[re.sub(' ,',',',cad)]\n",
    "                if count<1:\n",
    "                    quest=[dummy.strip('\"') for dummy in item[2:]]\n",
    "            elif count %3 ==1:\n",
    "                temp+=[int(dummy) for dummy in item[1:]]\n",
    "                data.append(temp)\n",
    "            count+=1\n",
    "    \n",
    "    #Process data\n",
    "    proces=[]\n",
    "    for item in data:\n",
    "        nom=item[0]\n",
    "        temp=item[1:-1]\n",
    "        temp.reverse()\n",
    "        mx=max(temp)\n",
    "        temp=map(lambda x: x//mx, temp)\n",
    "        if sum(temp)>1:\n",
    "            pos=resuelve(temp)\n",
    "            for index in range(len(temp)):\n",
    "                if not index==int(pos):\n",
    "                    temp[index]=0\n",
    "                else:\n",
    "                    temp[index]=1\n",
    "        temp.insert(0,nom)\n",
    "        proces.append(temp)\n",
    "    return proces\n"
   ]
  },
  {
   "cell_type": "code",
   "execution_count": 29,
   "metadata": {
    "collapsed": false
   },
   "outputs": [],
   "source": [
    "def informe_competencias(curso,nome,resp,dia,mes,tratam,tutor,nombre):\n",
    "    fich=open(PATH+'/plantilla_informe.html')\n",
    "    aux=fich.readlines()\n",
    "    fich.close()\n",
    "    base=''.join(aux)\n",
    "    if '1' in curso:\n",
    "        fich=open(PATH+'/plantilla_orientac1eso.html')\n",
    "        aux=fich.readlines()\n",
    "        orientaeso=''.join(aux)\n",
    "    else:\n",
    "        fich=open(PATH+'/plantilla_orientac3eso.html')\n",
    "        aux=fich.readlines()\n",
    "        orientaeso=''.join(aux)\n",
    "   \n",
    "    relleno=[]\n",
    "    relleno.append(nome)\n",
    "    relleno.append(nome)\n",
    "    relleno+=resp\n",
    "    relleno.append(orientaeso)\n",
    "    relleno.append(dia)\n",
    "    relleno.append(mes)\n",
    "    relleno.append(tratam)\n",
    "    relleno.append('D. '+tutor)\n",
    "    relleno.append('<textarea rows=10 cols=80 name=\"obs\" wrap=virtual placeholder=\"\"></textarea>')\n",
    "    fich=open(PATH+'/informes/'+nombre+'.html','w')\n",
    "    fich.write(base % tuple(relleno))\n",
    "    fich.close()"
   ]
  },
  {
   "cell_type": "code",
   "execution_count": 44,
   "metadata": {
    "collapsed": false,
    "scrolled": true
   },
   "outputs": [],
   "source": [
    "import os\n",
    "for curso in cursos:\n",
    "    #curso='/informes/2-ESO-A-'\n",
    "    for comp in comps:\n",
    "        \n",
    "        \n",
    "        if curso=='3d' and comp=='cmcct':\n",
    "            #print alumns\n",
    "            for alumn in alumns.keys():\n",
    "                alumns[alumn].append([0]*4)\n",
    "                \n",
    "        else:\n",
    "            item=import_comp(PATH+'/informes/'+curso+'-'+comp)\n",
    "            if comp=='obs':\n",
    "                alumns_ord=[dummy[0] for dummy in item]\n",
    "                alumns={dummy[0]:[dummy[1:]] for dummy in item}\n",
    "            else:\n",
    "                for num in item:\n",
    "                    alumns[num[0]].append(num[1:])\n",
    "    dia,mes,tratam,tutor=info[curso]\n",
    "\n",
    "\n",
    "    for alum in alumns_ord:\n",
    "        nom=nomtohtml(alum)\n",
    "        res=[]\n",
    "        for item in alumns[alum]:\n",
    "            res+=item\n",
    "        resp=map(lambda x: 'checked' if x else '', res)\n",
    "        informe_competencias(curso,nom,resp,dia,mes,tratam,tutor,alum)\n",
    "    cad='zip -j %s/informes/%s %s/informes/*.html; rm -f %s/informes/*.html' %(PATH,curso,PATH,PATH)\n",
    "    os.system(cad)"
   ]
  },
  {
   "cell_type": "code",
   "execution_count": null,
   "metadata": {
    "collapsed": true
   },
   "outputs": [],
   "source": []
  }
 ],
 "metadata": {
  "kernelspec": {
   "display_name": "Python 2",
   "language": "python",
   "name": "python2"
  },
  "language_info": {
   "codemirror_mode": {
    "name": "ipython",
    "version": 2
   },
   "file_extension": ".py",
   "mimetype": "text/x-python",
   "name": "python",
   "nbconvert_exporter": "python",
   "pygments_lexer": "ipython2",
   "version": "2.7.6"
  }
 },
 "nbformat": 4,
 "nbformat_minor": 0
}
