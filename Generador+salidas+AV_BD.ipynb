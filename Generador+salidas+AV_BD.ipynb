{
 "cells": [
  {
   "cell_type": "markdown",
   "metadata": {},
   "source": [
    "### Generación de salidas frecuentes"
   ]
  },
  {
   "cell_type": "code",
   "execution_count": null,
   "metadata": {},
   "outputs": [],
   "source": [
    "from AVBD import *\n",
    "\n",
    "avbd=AV_BD('Path-to-actual-AVBD')"
   ]
  },
  {
   "cell_type": "code",
   "execution_count": null,
   "metadata": {},
   "outputs": [],
   "source": [
    "#listado de cursos en BD\n",
    "cursos=avbd.busca('SELECT nome FROM Aulas')\n",
    "print(cursos)"
   ]
  },
  {
   "cell_type": "code",
   "execution_count": null,
   "metadata": {},
   "outputs": [],
   "source": [
    "#Generar encuestas de competencias y objetivos\n",
    "PATH='Path-to-root-AVBD'\n",
    "ANNO='Directory-actual-AVBD'\n",
    "\n",
    "borrar=[]\n",
    "for item in cursos:\n",
    "    if not ('2ESOA' in item or '3ESOA' in item):\n",
    "        borrar.append(item)\n",
    "\n",
    "        \n",
    "for item in borrar:\n",
    "    cursos.remove(item)\n",
    "\n",
    "for item in cursos:\n",
    "    listado=avbd.extraeGrupo(item[0])\n",
    "    obxectivos(PATH+ANNO+'/plantillas/',item[0],listado)\n",
    "    competencias(PATH+ANNO+'/plantillas/',item[0],listado)"
   ]
  },
  {
   "cell_type": "code",
   "execution_count": null,
   "metadata": {},
   "outputs": [],
   "source": [
    "#Listados de grupos\n",
    "for item in ['2ESOB','2ESOD']:\n",
    "    print(item)\n",
    "    listado=ordenStandar(avbd.extraeGrupo(item))\n",
    "    for alum in listado:\n",
    "        print(alum[-1]+','+alum[-2])"
   ]
  },
  {
   "cell_type": "code",
   "execution_count": null,
   "metadata": {},
   "outputs": [],
   "source": [
    "#listado de grupos y tutores\n",
    "for item in cursos:\n",
    "    print(item[0],avbd.extraeGrupo(item[0],rol='tutor')[0][1:])"
   ]
  },
  {
   "cell_type": "code",
   "execution_count": null,
   "metadata": {},
   "outputs": [],
   "source": []
  }
 ],
 "metadata": {
  "kernelspec": {
   "display_name": "Python 3",
   "language": "python",
   "name": "python3"
  },
  "language_info": {
   "codemirror_mode": {
    "name": "ipython",
    "version": 3
   },
   "file_extension": ".py",
   "mimetype": "text/x-python",
   "name": "python",
   "nbconvert_exporter": "python",
   "pygments_lexer": "ipython3",
   "version": "3.5.2"
  }
 },
 "nbformat": 4,
 "nbformat_minor": 2
}
