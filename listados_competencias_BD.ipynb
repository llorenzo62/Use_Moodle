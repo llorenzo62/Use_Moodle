{
  "nbformat": 4,
  "nbformat_minor": 0,
  "metadata": {
    "kernelspec": {
      "display_name": "Python 3",
      "language": "python",
      "name": "python3"
    },
    "language_info": {
      "codemirror_mode": {
        "name": "ipython",
        "version": 3
      },
      "file_extension": ".py",
      "mimetype": "text/x-python",
      "name": "python",
      "nbconvert_exporter": "python",
      "pygments_lexer": "ipython3",
      "version": "3.8.5"
    },
    "colab": {
      "name": "listados_competencias_BD.ipynb",
      "provenance": [],
      "collapsed_sections": [],
      "include_colab_link": true
    }
  },
  "cells": [
    {
      "cell_type": "markdown",
      "metadata": {
        "id": "view-in-github",
        "colab_type": "text"
      },
      "source": [
        "<a href=\"https://colab.research.google.com/github/llorenzo62/Use_Moodle/blob/master/listados_competencias_BD.ipynb\" target=\"_parent\"><img src=\"https://colab.research.google.com/assets/colab-badge.svg\" alt=\"Open In Colab\"/></a>"
      ]
    },
    {
      "cell_type": "markdown",
      "metadata": {
        "id": "9xzYSaY5GPMz"
      },
      "source": [
        "**Executar** as seguintes celas"
      ]
    },
    {
      "cell_type": "code",
      "metadata": {
        "id": "CjNApuBAkoXf"
      },
      "source": [
        "import re,zipfile,glob,os\n",
        "\n",
        "def unzipODF(pathtofile):\n",
        "    fzip=zipfile.ZipFile(pathtofile)\n",
        "    return repr(fzip.read('content.xml').decode())\n",
        "\n"
      ],
      "execution_count": 1,
      "outputs": []
    },
    {
      "cell_type": "code",
      "metadata": {
        "id": "teUbMF54koXq"
      },
      "source": [
        "def extrae_tablas(direcc,min_row=2,max_col=4):\n",
        "    hc=unzipODF(direcc)\n",
        "    tablas=re.findall('<table:table (table:name.*?)</table:table>',hc)\n",
        "    dtabla={}\n",
        "    for tabla in tablas:\n",
        "        nome=re.findall('table:name=\"(.*?)\"',tabla)[0]\n",
        "        if nome in ['NVScriptsProperties','DO NOT DELETE - AutoCrat Job Se']:\n",
        "            continue\n",
        "        #print(nome)\n",
        "        rows=re.findall('<table:table-row (.*?)</table:table-row>',tabla)\n",
        "        if rows:\n",
        "            dtabla[nome]=[re.findall(r'<text:p>(.*?)</text:p>',item)[:max_col] for item in rows[min_row:] if item]\n",
        "            dtabla[nome]=[item for item in dtabla[nome] if item]\n",
        "    return dtabla"
      ],
      "execution_count": 2,
      "outputs": []
    },
    {
      "cell_type": "code",
      "metadata": {
        "id": "LBl40oNUkoXv"
      },
      "source": [
        "#carga plantilla\n",
        "def plantilla():\n",
        "    PP='Plantilla_BD/preset.xml'\n",
        "    \n",
        "    return open(PP,'r').read()"
      ],
      "execution_count": 3,
      "outputs": []
    },
    {
      "cell_type": "code",
      "metadata": {
        "id": "xpKJF0jDkoXr",
        "colab": {
          "base_uri": "https://localhost:8080/"
        },
        "outputId": "745f5b2e-f21a-4336-887b-737567369479"
      },
      "source": [
        "asignaturas='''1º de ESO:[Lingua Galega e Literatura, \n",
        "Xeografía e Historia, \n",
        "Primeira Lingua Estranxeira, \n",
        "Matemáticas, \n",
        "Segunda Lingua Estranxeira, \n",
        "Valores éticos, \n",
        "Bioloxía e Xeoloxía, \n",
        "Educación Plástica, Visual e Audiovisual, \n",
        "Educación Física, \n",
        "Lingua Castelá e Literatura], \n",
        "2º de ESO:[Lingua Galega e Literatura, \n",
        "Primeira Lingua Estranxeira, \n",
        "Xeografía e Historia, \n",
        "Matemáticas, \n",
        "Física e Química, \n",
        "Segunda Lingua Estranxeira, \n",
        "Tecnoloxía, \n",
        "Valores éticos, \n",
        "Lingua Castelá e Literatura, \n",
        "Educación Física, \n",
        "Música], \n",
        "3º de ESO:[Primeira Lingua Estranxeira, \n",
        "Xeografía e Historia, \n",
        "Segunda Lingua Estranxeira, \n",
        "Matemáticas Orientadas ás Ensinanzas Académicas, \n",
        "Bioloxía e Xeoloxía, \n",
        "Matemáticas Orientadas ás Ensinanzas Aplicadas, \n",
        "Física e Química, \n",
        "Tecnoloxía, \n",
        "Lingua Castelá e Literatura, \n",
        "Música, \n",
        "Educación Física, \n",
        "Educación Plástica, Visual e Audiovisual, \n",
        "Valores éticos, \n",
        "Cultura Clásica], \n",
        "4º de ESO:[Cultura Clásica, \n",
        "Lingua Galega e Literatura, \n",
        "Xeografía e Historia, \n",
        "Primeira Lingua Estranxeira, \n",
        "Física e Química, \n",
        "Latín, \n",
        "Lingua Castelá e Literatura, \n",
        "Filosofía, \n",
        "Segunda Lingua Estranxeira, \n",
        "Matemáticas Orientadas ás Ensinanzas Académicas, \n",
        "Tecnoloxías da Información e da Comunicación, \n",
        "Bioloxía e Xeoloxía, \n",
        "Economía, \n",
        "Matemáticas Orientadas ás Ensinanzas Aplicadas, \n",
        "Ciencias Aplicadas á Actividade Profesional, \n",
        "Tecnoloxía, \n",
        "Iniciación á Actividade Emprendedora e Empresarial, \n",
        "Educación Plástica, Visual e Audiovisual, \n",
        "Música, \n",
        "Cultura Científica, \n",
        "Educación Física, \n",
        "Valores éticos, \n",
        "Artes Escénicas e Danza] '''\n",
        "\n",
        "listados={}\n",
        "for item in asignaturas.split('],'):\n",
        "    key,lst=item.split(':[')\n",
        "    listados[key.strip(' \\n')]=lst.strip(']').split(', \\n')\n",
        "listados"
      ],
      "execution_count": 4,
      "outputs": [
        {
          "output_type": "execute_result",
          "data": {
            "text/plain": [
              "{'1º de ESO': ['Lingua Galega e Literatura',\n",
              "  'Xeografía e Historia',\n",
              "  'Primeira Lingua Estranxeira',\n",
              "  'Matemáticas',\n",
              "  'Segunda Lingua Estranxeira',\n",
              "  'Valores éticos',\n",
              "  'Bioloxía e Xeoloxía',\n",
              "  'Educación Plástica, Visual e Audiovisual',\n",
              "  'Educación Física',\n",
              "  'Lingua Castelá e Literatura'],\n",
              " '2º de ESO': ['Lingua Galega e Literatura',\n",
              "  'Primeira Lingua Estranxeira',\n",
              "  'Xeografía e Historia',\n",
              "  'Matemáticas',\n",
              "  'Física e Química',\n",
              "  'Segunda Lingua Estranxeira',\n",
              "  'Tecnoloxía',\n",
              "  'Valores éticos',\n",
              "  'Lingua Castelá e Literatura',\n",
              "  'Educación Física',\n",
              "  'Música'],\n",
              " '3º de ESO': ['Primeira Lingua Estranxeira',\n",
              "  'Xeografía e Historia',\n",
              "  'Segunda Lingua Estranxeira',\n",
              "  'Matemáticas Orientadas ás Ensinanzas Académicas',\n",
              "  'Bioloxía e Xeoloxía',\n",
              "  'Matemáticas Orientadas ás Ensinanzas Aplicadas',\n",
              "  'Física e Química',\n",
              "  'Tecnoloxía',\n",
              "  'Lingua Castelá e Literatura',\n",
              "  'Música',\n",
              "  'Educación Física',\n",
              "  'Educación Plástica, Visual e Audiovisual',\n",
              "  'Valores éticos',\n",
              "  'Cultura Clásica'],\n",
              " '4º de ESO': ['Cultura Clásica',\n",
              "  'Lingua Galega e Literatura',\n",
              "  'Xeografía e Historia',\n",
              "  'Primeira Lingua Estranxeira',\n",
              "  'Física e Química',\n",
              "  'Latín',\n",
              "  'Lingua Castelá e Literatura',\n",
              "  'Filosofía',\n",
              "  'Segunda Lingua Estranxeira',\n",
              "  'Matemáticas Orientadas ás Ensinanzas Académicas',\n",
              "  'Tecnoloxías da Información e da Comunicación',\n",
              "  'Bioloxía e Xeoloxía',\n",
              "  'Economía',\n",
              "  'Matemáticas Orientadas ás Ensinanzas Aplicadas',\n",
              "  'Ciencias Aplicadas á Actividade Profesional',\n",
              "  'Tecnoloxía',\n",
              "  'Iniciación á Actividade Emprendedora e Empresarial',\n",
              "  'Educación Plástica, Visual e Audiovisual',\n",
              "  'Música',\n",
              "  'Cultura Científica',\n",
              "  'Educación Física',\n",
              "  'Valores éticos',\n",
              "  'Artes Escénicas e Danza] ']}"
            ]
          },
          "metadata": {
            "tags": []
          },
          "execution_count": 4
        }
      ]
    },
    {
      "cell_type": "markdown",
      "metadata": {
        "id": "3SgL2KWDFzxM"
      },
      "source": [
        "**Subir** o arquivo *Plantilla_BD.zip* e executar as seguintes celas"
      ]
    },
    {
      "cell_type": "code",
      "metadata": {
        "id": "4hQvi1Fgmo0H"
      },
      "source": [
        "!unzip Plantilla_BD.zip"
      ],
      "execution_count": null,
      "outputs": []
    },
    {
      "cell_type": "code",
      "metadata": {
        "id": "8vPwFE_YkoXw"
      },
      "source": [
        "plantilla()"
      ],
      "execution_count": null,
      "outputs": []
    },
    {
      "cell_type": "code",
      "metadata": {
        "id": "49W1KiSlkoXw"
      },
      "source": [
        "PATH='./'\n"
      ],
      "execution_count": null,
      "outputs": []
    },
    {
      "cell_type": "code",
      "metadata": {
        "id": "B8_UdRdEkoXx"
      },
      "source": [
        "\n",
        "f=glob.glob(PATH+'*.ods')\n",
        "print(f)"
      ],
      "execution_count": null,
      "outputs": []
    },
    {
      "cell_type": "code",
      "metadata": {
        "id": "GFmGKctEkoXy"
      },
      "source": [
        "dictinfo={}\n",
        "for item in f:\n",
        "\n",
        "    label=item.strip().split('/')[-1].strip('.ods')\n",
        "    klabel=label.split('º')\n",
        "    for key,val in extrae_tablas(item).items():\n",
        "        if klabel[0] in key and klabel[1] in key:\n",
        "            dictinfo[label]=[item[1].title() for item in val]\n",
        "            break\n",
        "    for key,val in listados.items():\n",
        "        if klabel[0] in key:\n",
        "            dictinfo[label]=[dictinfo[label],val]\n",
        "dictinfo"
      ],
      "execution_count": null,
      "outputs": []
    },
    {
      "cell_type": "code",
      "metadata": {
        "id": "wwhDpDq8koXy"
      },
      "source": [
        "\n",
        "PATH='./'\n",
        "for key,val in dictinfo.items():\n",
        "    alumns='\\n'.join([item.title() for item in val[0]])\n",
        "    asigns='\\n'.join(val[1])\n",
        "    preset=plantilla().format(alumns,asigns)\n",
        "    os.system('mkdir \"{}\"'.format(PATH+key))\n",
        "    os.system('cp {}Plantilla_BD/*  \"{}\"'.format(PATH,PATH+key))\n",
        "    with open(PATH+key+'/preset.xml','w') as fich:\n",
        "        fich.write(plantilla().format(alumns,asigns))\n",
        "    os.system('cd \"{}\";zip -r \"../{}.zip\" * '.format(PATH+key,key))\n",
        "    os.system('rm -fr \"{}\"'.format(PATH+key))\n"
      ],
      "execution_count": null,
      "outputs": []
    },
    {
      "cell_type": "code",
      "metadata": {
        "id": "BsufpO8EkoXz"
      },
      "source": [
        "!rm *.ods\n",
        "!rm 'Plantilla_BD.zip'"
      ],
      "execution_count": null,
      "outputs": []
    },
    {
      "cell_type": "code",
      "metadata": {
        "id": "MKBzO6T2n6R2"
      },
      "source": [
        "!zip -m listados.zip *.zip"
      ],
      "execution_count": null,
      "outputs": []
    },
    {
      "cell_type": "code",
      "metadata": {
        "id": "v89qvL45o7Q6"
      },
      "source": [
        ""
      ],
      "execution_count": null,
      "outputs": []
    }
  ]
}