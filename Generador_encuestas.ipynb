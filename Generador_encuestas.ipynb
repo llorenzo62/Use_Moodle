{
 "cells": [
  {
   "cell_type": "code",
   "execution_count": 74,
   "metadata": {
    "collapsed": false
   },
   "outputs": [],
   "source": [
    "PATH='/home/luis/sustituciones/centros/actual/Moodle/rubricas/'\n",
    "cursos_LOE={'2-ESO','4-ESO'}\n",
    "rubs_LOE=['Dificultades de COMPRENSIÓN',\n",
    "          'Dificultades na EXPRESIÓN',\n",
    "          'Tarefas insuficientes CLASE',\n",
    "          'Tarefas insuficientes CASA',\n",
    "          'Resultados negativos PROBAS',\n",
    "          'Falta TÉCNICAS de estudo',\n",
    "          'Actitude DISRUPTIVA',\n",
    "          'Traballo en EQUIPO',\n",
    "          'MELLORA',\n",
    "          'EMPEORA']\n",
    "rubs_LOMCE=[\n",
    "    'Non é alumno/a',\n",
    "    'Desenvolve e aplica estratexias de RAZOAMENTO para argumentar as respostas',\n",
    "    'AFRONTA os problemas e aprende dos erros.',\n",
    "    'RESOLVE axeitadamente propostas variadas da aprendizaxe.',\n",
    "    'PARTICIPA activamente na clase.',\n",
    "    'Manifesta AUTONOMÍA na planificación e execución das tarefas.',\n",
    "    'Preocupase pola PRESENTACIÓN das tarefas, dos traballos, das libretas… ',\n",
    "    'Manexa FERRAMENTAS DIXITAIS adecuadas ao nivel que lle corresponde.',\n",
    "    'Amosa habilidades de xestión e cooperación para o TRABALLO EN EQUIPO.',\n",
    "    'Amosa COMPRENSIÓN de diferentes tipos de textos.',\n",
    "    'REDACTA textos escritos de diferente tipoloxía textual.',\n",
    "    'PLANIFICA axeitadamente o tempo',\n",
    "    'RESPECTA os dereitos dos demais membros da comunidade educativa',\n",
    "    'ACADA un nivel axeitado en todos os items.',\n",
    "    'MELLORA',\n",
    "    'EMPEORA'\n",
    "]\n",
    "\n",
    "niveles_obxectivos=[\n",
    "    'Desenvolveu satisfactoriamente todos os obxectivos',\n",
    "    'Desenvolveu suficientemente todos os obxectivos',\n",
    "    'Non acada todos pero apréciase madureza e posibilidades de acadar o grao esixido',\n",
    "    'Non acada e non se aprecia madureza e posibilidades de acadar o grao esixido',\n",
    "    'Non é alumno'\n",
    "]\n",
    "\n",
    "opciones1=[\n",
    "    'Promocionar a 2ºESO',\n",
    "    'Repetir 1ºESO',\n",
    "    'Exención 2ª lingua extranxeira',\n",
    "    'ACS',\n",
    "    'Apoyo',\n",
    "    'Agrupamento',\n",
    "    'Reforzo educativo'\n",
    "]\n",
    "opciones3=[\n",
    "    'Promocionar a 4ºESO enseñanzas aplicadas',\n",
    "    'Promocionar a 4ºESO enseñanzas académicas',\n",
    "    'Repetir 3ºESO, matematicas aplicadas',\n",
    "    'Repetir 3ºESO, matematicas académicas',\n",
    "    'Incorporación a 3ºPMAR',\n",
    "    'Incorporación a FPB',\n",
    "    'Incorporación a Ciclo Formativo (proba de acceso libre)',\n",
    "    'ACS',\n",
    "    'Agrupamento'    \n",
    "]"
   ]
  },
  {
   "cell_type": "code",
   "execution_count": 75,
   "metadata": {
    "collapsed": false
   },
   "outputs": [],
   "source": [
    "def rubricas(curso,alumns):\n",
    "    '''\n",
    "    genera los xml con las rubricas por curso\n",
    "    para la primera eval *_rubs_1.xml\n",
    "    para las eval sigs *_rubs_2.xml\n",
    "    añadiendo MELLORA/EMPEORA\n",
    "    '''\n",
    "    rubs=rubs_LOMCE\n",
    "    required=1\n",
    "    for item in cursos_LOE:\n",
    "        if item in curso:\n",
    "            rubs=rubs_LOE\n",
    "            required=0\n",
    "            break\n",
    "    cad_items='\\n|'.join(rubs[:-2])\n",
    "    fich=open(PATH+curso+'_rubs_1.xml','w')\n",
    "    fich.write('<?xml version=\"1.0\" encoding=\"UTF-8\" ?>\\n')\n",
    "    fich.write('<FEEDBACK VERSION=\"200701\" COMMENT=\"XML-Importfile for mod/feedback\">\\n\\t<ITEMS>\\n')\n",
    "    for alumn in alumns:\n",
    "        fich.write('\\t\\t<ITEM TYPE=\"multichoice\" REQUIRED=\"%i\">\\n' % required)\n",
    "        fich.write('\\t\\t\\t<ITEMTEXT>\\n\\t\\t\\t\\t<![CDATA[%s]]>\\n\\t\\t\\t </ITEMTEXT>\\n' % ', '.join(alumn))\n",
    "        fich.write('\\t\\t\\t<PRESENTATION>\\n')\n",
    "        fich.write('\\t\\t\\t\\t<![CDATA[c>>>>>%s]]>\\n' % cad_items)\n",
    "        fich.write('\\t\\t\\t</PRESENTATION>\\n\\t\\t</ITEM>\\n')\n",
    "    fich.write('\\t</ITEMS>\\n</FEEDBACK>\\n')\n",
    "    fich.close()\n",
    "    cad_items='\\n|'.join(rubs)\n",
    "    fich=open(PATH+curso+'_rubs_2.xml','w')\n",
    "    fich.write('<?xml version=\"1.0\" encoding=\"UTF-8\" ?>\\n')\n",
    "    fich.write('<FEEDBACK VERSION=\"200701\" COMMENT=\"XML-Importfile for mod/feedback\">\\n\\t<ITEMS>\\n')\n",
    "    for alumn in alumns:\n",
    "        fich.write('\\t\\t<ITEM TYPE=\"multichoice\" REQUIRED=\"%i\">\\n' % required)\n",
    "        fich.write('\\t\\t\\t<ITEMTEXT>\\n\\t\\t\\t\\t<![CDATA[%s]]>\\n\\t\\t\\t </ITEMTEXT>\\n' % ', '.join(alumn))\n",
    "        fich.write('\\t\\t\\t<PRESENTATION>\\n')\n",
    "        fich.write('\\t\\t\\t\\t<![CDATA[c>>>>>%s]]>\\n' % cad_items)\n",
    "        fich.write('\\t\\t\\t</PRESENTATION>\\n\\t\\t</ITEM>\\n')\n",
    "    fich.write('\\t</ITEMS>\\n</FEEDBACK>\\n')\n",
    "    fich.close()"
   ]
  },
  {
   "cell_type": "code",
   "execution_count": 76,
   "metadata": {
    "collapsed": true
   },
   "outputs": [],
   "source": [
    "def competencias(curso,alumns,niveles=['Alto','Medio','Baixo','NON conseguido','Non é alumno'],required=1):\n",
    "    '''\n",
    "    crea la encuesta para competencias\n",
    "    fichero xml con la plantilla para las encuestas de competencias\n",
    "    '''\n",
    "    cad_items='\\n|'.join(niveles)\n",
    "    fich=open(PATH+curso+'_competencias.xml','w')\n",
    "    fich.write('<?xml version=\"1.0\" encoding=\"UTF-8\" ?>\\n')\n",
    "    fich.write('<FEEDBACK VERSION=\"200701\" COMMENT=\"XML-Importfile for mod/feedback\">\\n\\t<ITEMS>\\n')\n",
    "    for alumn in alumns:\n",
    "        fich.write('\\t\\t<ITEM TYPE=\"multichoice\" REQUIRED=\"%i\">\\n' % required)\n",
    "        fich.write('\\t\\t\\t<ITEMTEXT>\\n\\t\\t\\t\\t<![CDATA[%s]]>\\n\\t\\t\\t </ITEMTEXT>\\n' % ', '.join(alumn))\n",
    "        fich.write('\\t\\t\\t<PRESENTATION>\\n')\n",
    "        fich.write('\\t\\t\\t\\t<![CDATA[r>>>>>%s]]>\\n' % cad_items)\n",
    "        fich.write('\\t\\t\\t</PRESENTATION>\\n\\t\\t</ITEM>\\n')\n",
    "    fich.write('\\t</ITEMS>\\n</FEEDBACK>\\n')\n",
    "    fich.close()"
   ]
  },
  {
   "cell_type": "code",
   "execution_count": 77,
   "metadata": {
    "collapsed": false
   },
   "outputs": [],
   "source": [
    "def obxectivos(curso,alumns,niveles=niveles_obxectivos,required=1):\n",
    "    '''\n",
    "    crea la encuesta para consecución de objetivos\n",
    "    fichero xml con la plantilla para las encuestas de consecución de objetivos\n",
    "    '''\n",
    "    cad_items='\\n|'.join(niveles)\n",
    "    fich=open(PATH+curso+'_obxectivos.xml','w')\n",
    "    fich.write('<?xml version=\"1.0\" encoding=\"UTF-8\" ?>\\n')\n",
    "    fich.write('<FEEDBACK VERSION=\"200701\" COMMENT=\"XML-Importfile for mod/feedback\">\\n\\t<ITEMS>\\n')\n",
    "    for alumn in alumns:\n",
    "        fich.write('\\t\\t<ITEM TYPE=\"multichoice\" REQUIRED=\"%i\">\\n' % required)\n",
    "        fich.write('\\t\\t\\t<ITEMTEXT>\\n\\t\\t\\t\\t<![CDATA[%s]]>\\n\\t\\t\\t </ITEMTEXT>\\n' % ', '.join(alumn))\n",
    "        fich.write('\\t\\t\\t<PRESENTATION>\\n')\n",
    "        fich.write('\\t\\t\\t\\t<![CDATA[r>>>>>%s]]>\\n' % cad_items)\n",
    "        fich.write('\\t\\t\\t</PRESENTATION>\\n\\t\\t</ITEM>\\n')\n",
    "    fich.write('\\t</ITEMS>\\n</FEEDBACK>\\n')\n",
    "    fich.close()"
   ]
  },
  {
   "cell_type": "code",
   "execution_count": 78,
   "metadata": {
    "collapsed": false
   },
   "outputs": [],
   "source": [
    "def opciones(curso,alumns,required=0):\n",
    "    '''\n",
    "    crea la encuesta para opciones recomendadas\n",
    "    fichero xml con la plantilla para las encuestas de opciones recomendadas\n",
    "    '''\n",
    "    if '1-ESO' in curso:\n",
    "        niveles=opciones1\n",
    "    elif '3-ESO' in curso:\n",
    "        niveles=opciones3\n",
    "    else:\n",
    "        return 0\n",
    "    cad_items='\\n|'.join(niveles)\n",
    "    fich=open(PATH+curso+'_opciones.xml','w')\n",
    "    fich.write('<?xml version=\"1.0\" encoding=\"UTF-8\" ?>\\n')\n",
    "    fich.write('<FEEDBACK VERSION=\"200701\" COMMENT=\"XML-Importfile for mod/feedback\">\\n\\t<ITEMS>\\n')\n",
    "    for alumn in alumns:\n",
    "        fich.write('\\t\\t<ITEM TYPE=\"multichoice\" REQUIRED=\"%i\">\\n' % required)\n",
    "        fich.write('\\t\\t\\t<ITEMTEXT>\\n\\t\\t\\t\\t<![CDATA[%s]]>\\n\\t\\t\\t </ITEMTEXT>\\n' % ', '.join(alumn))\n",
    "        fich.write('\\t\\t\\t<PRESENTATION>\\n')\n",
    "        fich.write('\\t\\t\\t\\t<![CDATA[c>>>>>%s]]>\\n' % cad_items)\n",
    "        fich.write('\\t\\t\\t</PRESENTATION>\\n\\t\\t</ITEM>\\n')\n",
    "    fich.write('\\t</ITEMS>\\n</FEEDBACK>\\n')\n",
    "    fich.close()"
   ]
  },
  {
   "cell_type": "code",
   "execution_count": 79,
   "metadata": {
    "collapsed": true
   },
   "outputs": [],
   "source": [
    "def elecciones(curso,alumn):\n",
    "    '''\n",
    "    genera la encuesta para la elección de delegado'''\n",
    "    nomalumn=[item[1]+' '+item[0] for item in alumn]\n",
    "    print nomalumn\n",
    "    fich=open(PATH+curso+'_elecciones.xml','w')\n",
    "    cadena='\\n|'.join(nomalumn)\n",
    "   \n",
    "    fich.write('\\t\\t<ITEM TYPE=\"multichoice\" REQUIRED=\"0\">\\n')\n",
    "    fich.write('\\t\\t\\t<ITEMTEXT>\\n\\t\\t\\t\\t<![CDATA[%s]]>\\n\\t\\t\\t </ITEMTEXT>\\n' % 'Elijo como delegado a:')\n",
    "    fich.write('\\t\\t\\t<PRESENTATION>\\n')\n",
    "    fich.write('\\t\\t\\t\\t<![CDATA[r>>>>>%s]]>\\n' % cadena)\n",
    "    fich.write('\\t\\t\\t</PRESENTATION>\\n\\t\\t</ITEM>\\n')\n",
    "    fich.write('\\t</ITEMS>\\n</FEEDBACK>\\n')\n",
    "    fich.close() \n",
    "    "
   ]
  },
  {
   "cell_type": "code",
   "execution_count": 80,
   "metadata": {
    "collapsed": true
   },
   "outputs": [],
   "source": [
    "def informe_competencias():\n",
    "    fich=open(PATH+'plantilla_informe.html')\n",
    "    aux=fich.readlines()\n",
    "    fich.close()\n",
    "    base=''.join(aux)\n",
    "    fich=open(PATH+'plantilla_orientac1eso.html')\n",
    "    aux=fich.readlines()\n",
    "    orienta1eso=''.join(aux)\n",
    "    fich=open(PATH+'plantilla_orientac3eso.html')\n",
    "    aux=fich.readlines()\n",
    "    orienta3eso=''.join(aux)\n",
    "    relleno=['']*39\n",
    "    relleno[1]=relleno[0]='Nome do alumno/a (Apelidos, Nome ou Nome Apelidos?)'\n",
    "    relleno[34]=orienta1eso\n",
    "    relleno[35]=5\n",
    "    relleno[36]='Xuño'\n",
    "    relleno[37]='Titor'\n",
    "    relleno[38]='Dona Fulanito de tal'\n",
    "    fich=open(PATH+'prueba_info_1ESO.html','w')\n",
    "    fich.write(base % tuple(relleno))\n",
    "    fich.close()"
   ]
  },
  {
   "cell_type": "code",
   "execution_count": 81,
   "metadata": {
    "collapsed": false
   },
   "outputs": [],
   "source": [
    "#carga censo alumnos\n",
    "nomfich='censo_alum_total.csv'\n",
    "fich=open(PATH+nomfich,'r')\n",
    "data=fich.readlines()\n",
    "fich.close()\n",
    "#genera diccionario por curso,con alumns por orden en csv\n",
    "cursos={}\n",
    "for item in data:\n",
    "    aux=item.strip().split(',')\n",
    "    if aux[-1] in cursos.keys():\n",
    "        cursos[aux[-1]].append(aux[:-1])\n",
    "    else:\n",
    "        cursos[aux[-1]]=[aux[:-1]]"
   ]
  },
  {
   "cell_type": "code",
   "execution_count": 39,
   "metadata": {
    "collapsed": false
   },
   "outputs": [],
   "source": [
    "for key,value in cursos.iteritems():\n",
    "    rubricas(key,value)"
   ]
  },
  {
   "cell_type": "code",
   "execution_count": 12,
   "metadata": {
    "collapsed": false
   },
   "outputs": [
    {
     "data": {
      "text/plain": [
       "['1-ESO-A',\n",
       " '1-ESO-C',\n",
       " '1-ESO-B',\n",
       " '2-ESO-B',\n",
       " '2-ESO-C',\n",
       " '2-ESO-A',\n",
       " '4-ESO-D',\n",
       " '3-ESO-D',\n",
       " '3-ESO-C',\n",
       " '3-ESO-B',\n",
       " '4-ESO-B',\n",
       " '4-ESO-C',\n",
       " '4-ESO-A',\n",
       " '1-Bac.-A',\n",
       " '2-INFOFC-A',\n",
       " '1-Bac.-C',\n",
       " '1-Bac.-B',\n",
       " '3-ESO-A',\n",
       " '1-INFOFC-A']"
      ]
     },
     "execution_count": 12,
     "metadata": {},
     "output_type": "execute_result"
    }
   ],
   "source": [
    "cursos.keys()"
   ]
  },
  {
   "cell_type": "code",
   "execution_count": 82,
   "metadata": {
    "collapsed": false
   },
   "outputs": [],
   "source": [
    "clomce=['1-ESO-A',\n",
    " '1-ESO-C',\n",
    " '1-ESO-B',\n",
    " '3-ESO-D',\n",
    " '3-ESO-C',\n",
    " '3-ESO-B',\n",
    " '3-ESO-A']"
   ]
  },
  {
   "cell_type": "code",
   "execution_count": 84,
   "metadata": {
    "collapsed": false
   },
   "outputs": [],
   "source": [
    "for curso in clomce:\n",
    "    competencias(curso,cursos[curso])\n",
    "    obxectivos(curso,(cursos[curso]))"
   ]
  },
  {
   "cell_type": "code",
   "execution_count": 85,
   "metadata": {
    "collapsed": true
   },
   "outputs": [],
   "source": [
    "informe_competencias()"
   ]
  },
  {
   "cell_type": "code",
   "execution_count": null,
   "metadata": {
    "collapsed": true
   },
   "outputs": [],
   "source": []
  }
 ],
 "metadata": {
  "kernelspec": {
   "display_name": "Python 2",
   "language": "python",
   "name": "python2"
  },
  "language_info": {
   "codemirror_mode": {
    "name": "ipython",
    "version": 2
   },
   "file_extension": ".py",
   "mimetype": "text/x-python",
   "name": "python",
   "nbconvert_exporter": "python",
   "pygments_lexer": "ipython2",
   "version": "2.7.6"
  }
 },
 "nbformat": 4,
 "nbformat_minor": 0
}
